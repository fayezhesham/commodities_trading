{
 "cells": [
  {
   "cell_type": "code",
   "execution_count": 1,
   "metadata": {},
   "outputs": [],
   "source": [
    "import pandas as pd\n",
    "import pycountry_convert as pycon"
   ]
  },
  {
   "cell_type": "code",
   "execution_count": 2,
   "metadata": {},
   "outputs": [
    {
     "name": "stderr",
     "output_type": "stream",
     "text": [
      "/tmp/ipykernel_64806/3477112522.py:1: DtypeWarning: Columns (2) have mixed types. Specify dtype option on import or set low_memory=False.\n",
      "  df = pd.read_csv(\"data.csv\")\n"
     ]
    }
   ],
   "source": [
    "df = pd.read_csv(\"data.csv\")"
   ]
  },
  {
   "cell_type": "code",
   "execution_count": 3,
   "metadata": {},
   "outputs": [],
   "source": [
    "df_overview = df[df['commodity'] == 'ALL COMMODITIES']"
   ]
  },
  {
   "cell_type": "code",
   "execution_count": 4,
   "metadata": {},
   "outputs": [],
   "source": [
    "df_overview = df_overview.drop(['comm_code', 'commodity', 'weight_kg', 'quantity_name', 'quantity', 'category'], axis=1).reset_index(drop=True)"
   ]
  },
  {
   "cell_type": "code",
   "execution_count": 5,
   "metadata": {},
   "outputs": [
    {
     "data": {
      "text/html": [
       "<div>\n",
       "<style scoped>\n",
       "    .dataframe tbody tr th:only-of-type {\n",
       "        vertical-align: middle;\n",
       "    }\n",
       "\n",
       "    .dataframe tbody tr th {\n",
       "        vertical-align: top;\n",
       "    }\n",
       "\n",
       "    .dataframe thead th {\n",
       "        text-align: right;\n",
       "    }\n",
       "</style>\n",
       "<table border=\"1\" class=\"dataframe\">\n",
       "  <thead>\n",
       "    <tr style=\"text-align: right;\">\n",
       "      <th></th>\n",
       "      <th>country_or_area</th>\n",
       "      <th>year</th>\n",
       "      <th>flow</th>\n",
       "      <th>trade_usd</th>\n",
       "    </tr>\n",
       "  </thead>\n",
       "  <tbody>\n",
       "    <tr>\n",
       "      <th>0</th>\n",
       "      <td>Afghanistan</td>\n",
       "      <td>2016</td>\n",
       "      <td>Import</td>\n",
       "      <td>6534140413</td>\n",
       "    </tr>\n",
       "    <tr>\n",
       "      <th>1</th>\n",
       "      <td>Afghanistan</td>\n",
       "      <td>2016</td>\n",
       "      <td>Export</td>\n",
       "      <td>596455337</td>\n",
       "    </tr>\n",
       "    <tr>\n",
       "      <th>2</th>\n",
       "      <td>Afghanistan</td>\n",
       "      <td>2015</td>\n",
       "      <td>Import</td>\n",
       "      <td>7722865049</td>\n",
       "    </tr>\n",
       "    <tr>\n",
       "      <th>3</th>\n",
       "      <td>Afghanistan</td>\n",
       "      <td>2015</td>\n",
       "      <td>Export</td>\n",
       "      <td>571404967</td>\n",
       "    </tr>\n",
       "    <tr>\n",
       "      <th>4</th>\n",
       "      <td>Afghanistan</td>\n",
       "      <td>2014</td>\n",
       "      <td>Import</td>\n",
       "      <td>7697178170</td>\n",
       "    </tr>\n",
       "    <tr>\n",
       "      <th>...</th>\n",
       "      <td>...</td>\n",
       "      <td>...</td>\n",
       "      <td>...</td>\n",
       "      <td>...</td>\n",
       "    </tr>\n",
       "    <tr>\n",
       "      <th>9180</th>\n",
       "      <td>Zimbabwe</td>\n",
       "      <td>2001</td>\n",
       "      <td>Export</td>\n",
       "      <td>1206807424</td>\n",
       "    </tr>\n",
       "    <tr>\n",
       "      <th>9181</th>\n",
       "      <td>Zimbabwe</td>\n",
       "      <td>2001</td>\n",
       "      <td>Re-Export</td>\n",
       "      <td>15943977</td>\n",
       "    </tr>\n",
       "    <tr>\n",
       "      <th>9182</th>\n",
       "      <td>Zimbabwe</td>\n",
       "      <td>2000</td>\n",
       "      <td>Export</td>\n",
       "      <td>1924962432</td>\n",
       "    </tr>\n",
       "    <tr>\n",
       "      <th>9183</th>\n",
       "      <td>Zimbabwe</td>\n",
       "      <td>1995</td>\n",
       "      <td>Import</td>\n",
       "      <td>2658853376</td>\n",
       "    </tr>\n",
       "    <tr>\n",
       "      <th>9184</th>\n",
       "      <td>Zimbabwe</td>\n",
       "      <td>1995</td>\n",
       "      <td>Export</td>\n",
       "      <td>1845905792</td>\n",
       "    </tr>\n",
       "  </tbody>\n",
       "</table>\n",
       "<p>9185 rows × 4 columns</p>\n",
       "</div>"
      ],
      "text/plain": [
       "     country_or_area  year       flow   trade_usd\n",
       "0        Afghanistan  2016     Import  6534140413\n",
       "1        Afghanistan  2016     Export   596455337\n",
       "2        Afghanistan  2015     Import  7722865049\n",
       "3        Afghanistan  2015     Export   571404967\n",
       "4        Afghanistan  2014     Import  7697178170\n",
       "...              ...   ...        ...         ...\n",
       "9180        Zimbabwe  2001     Export  1206807424\n",
       "9181        Zimbabwe  2001  Re-Export    15943977\n",
       "9182        Zimbabwe  2000     Export  1924962432\n",
       "9183        Zimbabwe  1995     Import  2658853376\n",
       "9184        Zimbabwe  1995     Export  1845905792\n",
       "\n",
       "[9185 rows x 4 columns]"
      ]
     },
     "execution_count": 5,
     "metadata": {},
     "output_type": "execute_result"
    }
   ],
   "source": [
    "df_overview"
   ]
  },
  {
   "cell_type": "code",
   "execution_count": 6,
   "metadata": {},
   "outputs": [],
   "source": [
    "def get_cont(country):\n",
    "    continent_names={'NA':'North America', \n",
    "                 'AS':'Asia', \n",
    "                 'EU':'Europe', \n",
    "                 'AF':'Africa', \n",
    "                 'SA':'South America', \n",
    "                 'OC':'Oceania'}\n",
    "    try:\n",
    "        code = pycon.country_name_to_country_alpha2(country)\n",
    "        continent_code = pycon.country_alpha2_to_continent_code(code)\n",
    "        continent = continent_names[continent_code]\n",
    "        return continent\n",
    "    except:\n",
    "        return None\n"
   ]
  },
  {
   "cell_type": "code",
   "execution_count": 27,
   "metadata": {},
   "outputs": [
    {
     "data": {
      "text/plain": [
       "'Asia'"
      ]
     },
     "execution_count": 27,
     "metadata": {},
     "output_type": "execute_result"
    }
   ],
   "source": []
  },
  {
   "cell_type": "code",
   "execution_count": 28,
   "metadata": {},
   "outputs": [],
   "source": [
    "df_overview['continent'] = df_overview['country_or_area'].apply(get_cont)"
   ]
  },
  {
   "cell_type": "code",
   "execution_count": 29,
   "metadata": {},
   "outputs": [
    {
     "data": {
      "text/html": [
       "<div>\n",
       "<style scoped>\n",
       "    .dataframe tbody tr th:only-of-type {\n",
       "        vertical-align: middle;\n",
       "    }\n",
       "\n",
       "    .dataframe tbody tr th {\n",
       "        vertical-align: top;\n",
       "    }\n",
       "\n",
       "    .dataframe thead th {\n",
       "        text-align: right;\n",
       "    }\n",
       "</style>\n",
       "<table border=\"1\" class=\"dataframe\">\n",
       "  <thead>\n",
       "    <tr style=\"text-align: right;\">\n",
       "      <th></th>\n",
       "      <th>country_or_area</th>\n",
       "      <th>year</th>\n",
       "      <th>flow</th>\n",
       "      <th>trade_usd</th>\n",
       "      <th>continent</th>\n",
       "    </tr>\n",
       "  </thead>\n",
       "  <tbody>\n",
       "    <tr>\n",
       "      <th>0</th>\n",
       "      <td>Afghanistan</td>\n",
       "      <td>2016</td>\n",
       "      <td>Import</td>\n",
       "      <td>6534140413</td>\n",
       "      <td>Asia</td>\n",
       "    </tr>\n",
       "    <tr>\n",
       "      <th>1</th>\n",
       "      <td>Afghanistan</td>\n",
       "      <td>2016</td>\n",
       "      <td>Export</td>\n",
       "      <td>596455337</td>\n",
       "      <td>Asia</td>\n",
       "    </tr>\n",
       "    <tr>\n",
       "      <th>2</th>\n",
       "      <td>Afghanistan</td>\n",
       "      <td>2015</td>\n",
       "      <td>Import</td>\n",
       "      <td>7722865049</td>\n",
       "      <td>Asia</td>\n",
       "    </tr>\n",
       "    <tr>\n",
       "      <th>3</th>\n",
       "      <td>Afghanistan</td>\n",
       "      <td>2015</td>\n",
       "      <td>Export</td>\n",
       "      <td>571404967</td>\n",
       "      <td>Asia</td>\n",
       "    </tr>\n",
       "    <tr>\n",
       "      <th>4</th>\n",
       "      <td>Afghanistan</td>\n",
       "      <td>2014</td>\n",
       "      <td>Import</td>\n",
       "      <td>7697178170</td>\n",
       "      <td>Asia</td>\n",
       "    </tr>\n",
       "    <tr>\n",
       "      <th>...</th>\n",
       "      <td>...</td>\n",
       "      <td>...</td>\n",
       "      <td>...</td>\n",
       "      <td>...</td>\n",
       "      <td>...</td>\n",
       "    </tr>\n",
       "    <tr>\n",
       "      <th>9180</th>\n",
       "      <td>Zimbabwe</td>\n",
       "      <td>2001</td>\n",
       "      <td>Export</td>\n",
       "      <td>1206807424</td>\n",
       "      <td>Africa</td>\n",
       "    </tr>\n",
       "    <tr>\n",
       "      <th>9181</th>\n",
       "      <td>Zimbabwe</td>\n",
       "      <td>2001</td>\n",
       "      <td>Re-Export</td>\n",
       "      <td>15943977</td>\n",
       "      <td>Africa</td>\n",
       "    </tr>\n",
       "    <tr>\n",
       "      <th>9182</th>\n",
       "      <td>Zimbabwe</td>\n",
       "      <td>2000</td>\n",
       "      <td>Export</td>\n",
       "      <td>1924962432</td>\n",
       "      <td>Africa</td>\n",
       "    </tr>\n",
       "    <tr>\n",
       "      <th>9183</th>\n",
       "      <td>Zimbabwe</td>\n",
       "      <td>1995</td>\n",
       "      <td>Import</td>\n",
       "      <td>2658853376</td>\n",
       "      <td>Africa</td>\n",
       "    </tr>\n",
       "    <tr>\n",
       "      <th>9184</th>\n",
       "      <td>Zimbabwe</td>\n",
       "      <td>1995</td>\n",
       "      <td>Export</td>\n",
       "      <td>1845905792</td>\n",
       "      <td>Africa</td>\n",
       "    </tr>\n",
       "  </tbody>\n",
       "</table>\n",
       "<p>9185 rows × 5 columns</p>\n",
       "</div>"
      ],
      "text/plain": [
       "     country_or_area  year       flow   trade_usd continent\n",
       "0        Afghanistan  2016     Import  6534140413      Asia\n",
       "1        Afghanistan  2016     Export   596455337      Asia\n",
       "2        Afghanistan  2015     Import  7722865049      Asia\n",
       "3        Afghanistan  2015     Export   571404967      Asia\n",
       "4        Afghanistan  2014     Import  7697178170      Asia\n",
       "...              ...   ...        ...         ...       ...\n",
       "9180        Zimbabwe  2001     Export  1206807424    Africa\n",
       "9181        Zimbabwe  2001  Re-Export    15943977    Africa\n",
       "9182        Zimbabwe  2000     Export  1924962432    Africa\n",
       "9183        Zimbabwe  1995     Import  2658853376    Africa\n",
       "9184        Zimbabwe  1995     Export  1845905792    Africa\n",
       "\n",
       "[9185 rows x 5 columns]"
      ]
     },
     "execution_count": 29,
     "metadata": {},
     "output_type": "execute_result"
    }
   ],
   "source": [
    "df_overview"
   ]
  },
  {
   "cell_type": "code",
   "execution_count": 30,
   "metadata": {},
   "outputs": [],
   "source": [
    "df_overview.to_csv('overview.csv', index = False)"
   ]
  },
  {
   "cell_type": "code",
   "execution_count": 35,
   "metadata": {},
   "outputs": [],
   "source": [
    "df = df.drop_duplicates()\n",
    "df = df.dropna()"
   ]
  },
  {
   "cell_type": "code",
   "execution_count": 36,
   "metadata": {},
   "outputs": [],
   "source": [
    "df = df.drop(['comm_code', 'quantity_name', 'quantity', 'weight_kg'], axis = 1)"
   ]
  },
  {
   "cell_type": "code",
   "execution_count": 38,
   "metadata": {},
   "outputs": [],
   "source": [
    "df['continent'] = df['country_or_area'].apply(get_cont)"
   ]
  },
  {
   "cell_type": "code",
   "execution_count": 39,
   "metadata": {},
   "outputs": [
    {
     "name": "stdout",
     "output_type": "stream",
     "text": [
      "<class 'pandas.core.frame.DataFrame'>\n",
      "Int64Index: 7876117 entries, 0 to 8225463\n",
      "Data columns (total 7 columns):\n",
      " #   Column           Dtype \n",
      "---  ------           ----- \n",
      " 0   country_or_area  object\n",
      " 1   year             int64 \n",
      " 2   commodity        object\n",
      " 3   flow             object\n",
      " 4   trade_usd        int64 \n",
      " 5   category         object\n",
      " 6   continent        object\n",
      "dtypes: int64(2), object(5)\n",
      "memory usage: 480.7+ MB\n"
     ]
    }
   ],
   "source": [
    "df.info()"
   ]
  },
  {
   "cell_type": "code",
   "execution_count": 40,
   "metadata": {},
   "outputs": [
    {
     "data": {
      "text/plain": [
       "Index(['country_or_area', 'year', 'commodity', 'flow', 'trade_usd', 'category',\n",
       "       'continent'],\n",
       "      dtype='object')"
      ]
     },
     "execution_count": 40,
     "metadata": {},
     "output_type": "execute_result"
    }
   ],
   "source": [
    "df.columns"
   ]
  },
  {
   "cell_type": "code",
   "execution_count": 41,
   "metadata": {},
   "outputs": [
    {
     "data": {
      "text/html": [
       "<div>\n",
       "<style scoped>\n",
       "    .dataframe tbody tr th:only-of-type {\n",
       "        vertical-align: middle;\n",
       "    }\n",
       "\n",
       "    .dataframe tbody tr th {\n",
       "        vertical-align: top;\n",
       "    }\n",
       "\n",
       "    .dataframe thead th {\n",
       "        text-align: right;\n",
       "    }\n",
       "</style>\n",
       "<table border=\"1\" class=\"dataframe\">\n",
       "  <thead>\n",
       "    <tr style=\"text-align: right;\">\n",
       "      <th></th>\n",
       "      <th>country_or_area</th>\n",
       "      <th>year</th>\n",
       "      <th>commodity</th>\n",
       "      <th>flow</th>\n",
       "      <th>trade_usd</th>\n",
       "      <th>category</th>\n",
       "      <th>continent</th>\n",
       "    </tr>\n",
       "  </thead>\n",
       "  <tbody>\n",
       "    <tr>\n",
       "      <th>0</th>\n",
       "      <td>Afghanistan</td>\n",
       "      <td>2016</td>\n",
       "      <td>Sheep, live</td>\n",
       "      <td>Export</td>\n",
       "      <td>6088</td>\n",
       "      <td>01_live_animals</td>\n",
       "      <td>Asia</td>\n",
       "    </tr>\n",
       "    <tr>\n",
       "      <th>1</th>\n",
       "      <td>Afghanistan</td>\n",
       "      <td>2016</td>\n",
       "      <td>Goats, live</td>\n",
       "      <td>Export</td>\n",
       "      <td>3958</td>\n",
       "      <td>01_live_animals</td>\n",
       "      <td>Asia</td>\n",
       "    </tr>\n",
       "    <tr>\n",
       "      <th>2</th>\n",
       "      <td>Afghanistan</td>\n",
       "      <td>2008</td>\n",
       "      <td>Bovine animals, live pure-bred breeding</td>\n",
       "      <td>Import</td>\n",
       "      <td>1026804</td>\n",
       "      <td>01_live_animals</td>\n",
       "      <td>Asia</td>\n",
       "    </tr>\n",
       "    <tr>\n",
       "      <th>3</th>\n",
       "      <td>Albania</td>\n",
       "      <td>2016</td>\n",
       "      <td>Bovine animals, live, except pure-bred breeding</td>\n",
       "      <td>Import</td>\n",
       "      <td>2414533</td>\n",
       "      <td>01_live_animals</td>\n",
       "      <td>Europe</td>\n",
       "    </tr>\n",
       "    <tr>\n",
       "      <th>4</th>\n",
       "      <td>Albania</td>\n",
       "      <td>2016</td>\n",
       "      <td>Swine, live except pure-bred breeding &gt; 50 kg</td>\n",
       "      <td>Import</td>\n",
       "      <td>14265937</td>\n",
       "      <td>01_live_animals</td>\n",
       "      <td>Europe</td>\n",
       "    </tr>\n",
       "    <tr>\n",
       "      <th>...</th>\n",
       "      <td>...</td>\n",
       "      <td>...</td>\n",
       "      <td>...</td>\n",
       "      <td>...</td>\n",
       "      <td>...</td>\n",
       "      <td>...</td>\n",
       "      <td>...</td>\n",
       "    </tr>\n",
       "    <tr>\n",
       "      <th>8225123</th>\n",
       "      <td>Tunisia</td>\n",
       "      <td>1995</td>\n",
       "      <td>ALL COMMODITIES</td>\n",
       "      <td>Export</td>\n",
       "      <td>5474626110</td>\n",
       "      <td>all_commodities</td>\n",
       "      <td>Africa</td>\n",
       "    </tr>\n",
       "    <tr>\n",
       "      <th>8225460</th>\n",
       "      <td>United Kingdom</td>\n",
       "      <td>1998</td>\n",
       "      <td>ALL COMMODITIES</td>\n",
       "      <td>Import</td>\n",
       "      <td>311879512430</td>\n",
       "      <td>all_commodities</td>\n",
       "      <td>Europe</td>\n",
       "    </tr>\n",
       "    <tr>\n",
       "      <th>8225461</th>\n",
       "      <td>United Kingdom</td>\n",
       "      <td>1998</td>\n",
       "      <td>ALL COMMODITIES</td>\n",
       "      <td>Export</td>\n",
       "      <td>270295285433</td>\n",
       "      <td>all_commodities</td>\n",
       "      <td>Europe</td>\n",
       "    </tr>\n",
       "    <tr>\n",
       "      <th>8225462</th>\n",
       "      <td>United Kingdom</td>\n",
       "      <td>1997</td>\n",
       "      <td>ALL COMMODITIES</td>\n",
       "      <td>Import</td>\n",
       "      <td>305135405241</td>\n",
       "      <td>all_commodities</td>\n",
       "      <td>Europe</td>\n",
       "    </tr>\n",
       "    <tr>\n",
       "      <th>8225463</th>\n",
       "      <td>United Kingdom</td>\n",
       "      <td>1997</td>\n",
       "      <td>ALL COMMODITIES</td>\n",
       "      <td>Export</td>\n",
       "      <td>278906969481</td>\n",
       "      <td>all_commodities</td>\n",
       "      <td>Europe</td>\n",
       "    </tr>\n",
       "  </tbody>\n",
       "</table>\n",
       "<p>7876117 rows × 7 columns</p>\n",
       "</div>"
      ],
      "text/plain": [
       "        country_or_area  year  \\\n",
       "0           Afghanistan  2016   \n",
       "1           Afghanistan  2016   \n",
       "2           Afghanistan  2008   \n",
       "3               Albania  2016   \n",
       "4               Albania  2016   \n",
       "...                 ...   ...   \n",
       "8225123         Tunisia  1995   \n",
       "8225460  United Kingdom  1998   \n",
       "8225461  United Kingdom  1998   \n",
       "8225462  United Kingdom  1997   \n",
       "8225463  United Kingdom  1997   \n",
       "\n",
       "                                               commodity    flow  \\\n",
       "0                                            Sheep, live  Export   \n",
       "1                                            Goats, live  Export   \n",
       "2                Bovine animals, live pure-bred breeding  Import   \n",
       "3        Bovine animals, live, except pure-bred breeding  Import   \n",
       "4          Swine, live except pure-bred breeding > 50 kg  Import   \n",
       "...                                                  ...     ...   \n",
       "8225123                                  ALL COMMODITIES  Export   \n",
       "8225460                                  ALL COMMODITIES  Import   \n",
       "8225461                                  ALL COMMODITIES  Export   \n",
       "8225462                                  ALL COMMODITIES  Import   \n",
       "8225463                                  ALL COMMODITIES  Export   \n",
       "\n",
       "            trade_usd         category continent  \n",
       "0                6088  01_live_animals      Asia  \n",
       "1                3958  01_live_animals      Asia  \n",
       "2             1026804  01_live_animals      Asia  \n",
       "3             2414533  01_live_animals    Europe  \n",
       "4            14265937  01_live_animals    Europe  \n",
       "...               ...              ...       ...  \n",
       "8225123    5474626110  all_commodities    Africa  \n",
       "8225460  311879512430  all_commodities    Europe  \n",
       "8225461  270295285433  all_commodities    Europe  \n",
       "8225462  305135405241  all_commodities    Europe  \n",
       "8225463  278906969481  all_commodities    Europe  \n",
       "\n",
       "[7876117 rows x 7 columns]"
      ]
     },
     "execution_count": 41,
     "metadata": {},
     "output_type": "execute_result"
    }
   ],
   "source": [
    "df"
   ]
  },
  {
   "cell_type": "code",
   "execution_count": 45,
   "metadata": {},
   "outputs": [],
   "source": [
    "df = df.groupby(['country_or_area', 'continent', 'category', 'commodity', 'flow', 'year'], as_index = False).sum()"
   ]
  },
  {
   "cell_type": "code",
   "execution_count": 49,
   "metadata": {},
   "outputs": [],
   "source": [
    "df = df[df['flow'].isin(['Export', 'Import'])]\n",
    "df = df[df['category'] != 'all_commodities']"
   ]
  },
  {
   "cell_type": "code",
   "execution_count": 52,
   "metadata": {},
   "outputs": [],
   "source": [
    "df.to_csv('data_cleaned.csv', index = False)"
   ]
  },
  {
   "cell_type": "code",
   "execution_count": 44,
   "metadata": {},
   "outputs": [
    {
     "data": {
      "text/plain": [
       "7876117"
      ]
     },
     "execution_count": 44,
     "metadata": {},
     "output_type": "execute_result"
    }
   ],
   "source": [
    "len(df)"
   ]
  }
 ],
 "metadata": {
  "interpreter": {
   "hash": "916dbcbb3f70747c44a77c7bcd40155683ae19c65e1c03b4aa3499c5328201f1"
  },
  "kernelspec": {
   "display_name": "Python 3.8.10 64-bit",
   "language": "python",
   "name": "python3"
  },
  "language_info": {
   "codemirror_mode": {
    "name": "ipython",
    "version": 3
   },
   "file_extension": ".py",
   "mimetype": "text/x-python",
   "name": "python",
   "nbconvert_exporter": "python",
   "pygments_lexer": "ipython3",
   "version": "3.8.10"
  },
  "orig_nbformat": 4
 },
 "nbformat": 4,
 "nbformat_minor": 2
}
